{
 "cells": [
  {
   "cell_type": "code",
   "execution_count": 53,
   "outputs": [],
   "source": [
    "import csv\n",
    "\n",
    "from sklearn import naive_bayes, dummy, ensemble, neighbors, tree, feature_extraction, calibration, linear_model, multiclass, svm\n",
    "import pandas as pd"
   ],
   "metadata": {
    "collapsed": false,
    "pycharm": {
     "name": "#%%\n"
    }
   }
  },
  {
   "cell_type": "code",
   "execution_count": 92,
   "outputs": [],
   "source": [
    "learn_data = pd.read_csv(\"data/sampled_tweets200_categorized.csv\")\n",
    "test_data = pd.read_csv(\"data/sampled_tweets_categorized.csv\")\n",
    "complete_data = pd.read_csv(\"data/target_data.csv\")"
   ],
   "metadata": {
    "collapsed": false,
    "pycharm": {
     "name": "#%%\n"
    }
   }
  },
  {
   "cell_type": "code",
   "execution_count": 39,
   "outputs": [],
   "source": [
    "def test_performance(classifiers, vectorizers, train, test):\n",
    "    for classifier in classifiers:\n",
    "        for vec in vectorizers:\n",
    "            string = \"\"\n",
    "            string += classifier.__class__.__name__ + \" with \" + vec.__class__.__name__\n",
    "\n",
    "            vectorize_text = vec.fit_transform(train[\"Text\"])\n",
    "            classifier.fit(vectorize_text, train[\"Category\"])\n",
    "\n",
    "            vectorize_text = vec.transform(test[\"Text\"])\n",
    "            score = classifier.score(vectorize_text, test[\"Category\"])\n",
    "\n",
    "            string += \". has score: \" + str(score)\n",
    "\n",
    "            print(string)"
   ],
   "metadata": {
    "collapsed": false,
    "pycharm": {
     "name": "#%%\n"
    }
   }
  },
  {
   "cell_type": "code",
   "execution_count": 43,
   "outputs": [],
   "source": [
    "classifiers = [naive_bayes.BernoulliNB(), ensemble.RandomForestClassifier(n_estimators= 100, n_jobs= -1), ensemble.AdaBoostClassifier(),\n",
    "               ensemble.BaggingClassifier(), ensemble.ExtraTreesClassifier(), ensemble.GradientBoostingClassifier(), tree.DecisionTreeClassifier(),\n",
    "               calibration.CalibratedClassifierCV(), dummy.DummyClassifier(), linear_model.PassiveAggressiveClassifier(),\n",
    "               linear_model.RidgeClassifier(), linear_model.RidgeClassifierCV(), linear_model.SGDClassifier(), neighbors.KNeighborsClassifier(),\n",
    "               multiclass.OneVsRestClassifier(svm.SVC(kernel = \"linear\")), multiclass.OneVsRestClassifier(linear_model.LogisticRegression())\n",
    "               ]"
   ],
   "metadata": {
    "collapsed": false,
    "pycharm": {
     "name": "#%%\n"
    }
   }
  },
  {
   "cell_type": "code",
   "execution_count": 44,
   "outputs": [],
   "source": [
    "vectorizers = [feature_extraction.text.CountVectorizer(), feature_extraction.text.TfidfVectorizer(), feature_extraction.text.HashingVectorizer()]"
   ],
   "metadata": {
    "collapsed": false,
    "pycharm": {
     "name": "#%%\n"
    }
   }
  },
  {
   "cell_type": "code",
   "execution_count": 45,
   "outputs": [
    {
     "name": "stdout",
     "output_type": "stream",
     "text": [
      "BernoulliNB with CountVectorizer. has score: 0.66\n",
      "BernoulliNB with TfidfVectorizer. has score: 0.66\n",
      "BernoulliNB with HashingVectorizer. has score: 0.65\n",
      "RandomForestClassifier with CountVectorizer. has score: 0.67\n",
      "RandomForestClassifier with TfidfVectorizer. has score: 0.65\n",
      "RandomForestClassifier with HashingVectorizer. has score: 0.71\n",
      "AdaBoostClassifier with CountVectorizer. has score: 0.52\n",
      "AdaBoostClassifier with TfidfVectorizer. has score: 0.6\n",
      "AdaBoostClassifier with HashingVectorizer. has score: 0.63\n",
      "BaggingClassifier with CountVectorizer. has score: 0.6\n",
      "BaggingClassifier with TfidfVectorizer. has score: 0.52\n",
      "BaggingClassifier with HashingVectorizer. has score: 0.61\n",
      "ExtraTreesClassifier with CountVectorizer. has score: 0.65\n",
      "ExtraTreesClassifier with TfidfVectorizer. has score: 0.68\n",
      "ExtraTreesClassifier with HashingVectorizer. has score: 0.71\n",
      "GradientBoostingClassifier with CountVectorizer. has score: 0.62\n",
      "GradientBoostingClassifier with TfidfVectorizer. has score: 0.53\n",
      "GradientBoostingClassifier with HashingVectorizer. has score: 0.63\n",
      "DecisionTreeClassifier with CountVectorizer. has score: 0.63\n",
      "DecisionTreeClassifier with TfidfVectorizer. has score: 0.45\n",
      "DecisionTreeClassifier with HashingVectorizer. has score: 0.64\n",
      "CalibratedClassifierCV with CountVectorizer. has score: 0.7\n",
      "CalibratedClassifierCV with TfidfVectorizer. has score: 0.68\n",
      "CalibratedClassifierCV with HashingVectorizer. has score: 0.73\n",
      "DummyClassifier with CountVectorizer. has score: 0.65\n",
      "DummyClassifier with TfidfVectorizer. has score: 0.65\n",
      "DummyClassifier with HashingVectorizer. has score: 0.65\n",
      "PassiveAggressiveClassifier with CountVectorizer. has score: 0.68\n",
      "PassiveAggressiveClassifier with TfidfVectorizer. has score: 0.66\n",
      "PassiveAggressiveClassifier with HashingVectorizer. has score: 0.7\n",
      "RidgeClassifier with CountVectorizer. has score: 0.72\n",
      "RidgeClassifier with TfidfVectorizer. has score: 0.72\n",
      "RidgeClassifier with HashingVectorizer. has score: 0.74\n",
      "RidgeClassifierCV with CountVectorizer. has score: 0.73\n",
      "RidgeClassifierCV with TfidfVectorizer. has score: 0.69\n",
      "RidgeClassifierCV with HashingVectorizer. has score: 0.72\n",
      "SGDClassifier with CountVectorizer. has score: 0.7\n",
      "SGDClassifier with TfidfVectorizer. has score: 0.64\n",
      "SGDClassifier with HashingVectorizer. has score: 0.71\n",
      "KNeighborsClassifier with CountVectorizer. has score: 0.59\n",
      "KNeighborsClassifier with TfidfVectorizer. has score: 0.61\n",
      "KNeighborsClassifier with HashingVectorizer. has score: 0.56\n",
      "OneVsRestClassifier with CountVectorizer. has score: 0.72\n",
      "OneVsRestClassifier with TfidfVectorizer. has score: 0.69\n",
      "OneVsRestClassifier with HashingVectorizer. has score: 0.7\n",
      "OneVsRestClassifier with CountVectorizer. has score: 0.74\n",
      "OneVsRestClassifier with TfidfVectorizer. has score: 0.67\n",
      "OneVsRestClassifier with HashingVectorizer. has score: 0.69\n"
     ]
    }
   ],
   "source": [
    "test_performance(classifiers, vectorizers, learn_data, test_data)"
   ],
   "metadata": {
    "collapsed": false,
    "pycharm": {
     "name": "#%%\n"
    }
   }
  },
  {
   "cell_type": "code",
   "execution_count": 46,
   "outputs": [],
   "source": [
    "classifiers_to_test = [calibration.CalibratedClassifierCV(), linear_model.RidgeClassifier(), multiclass.OneVsRestClassifier(linear_model.LogisticRegression())]\n",
    "vecs_to_test = [feature_extraction.text.HashingVectorizer(), feature_extraction.text.CountVectorizer()]"
   ],
   "metadata": {
    "collapsed": false,
    "pycharm": {
     "name": "#%%\n"
    }
   }
  },
  {
   "cell_type": "code",
   "execution_count": 86,
   "outputs": [],
   "source": [
    "current_classifier = classifiers_to_test[2]\n",
    "current_vectorizer = vecs_to_test[1]"
   ],
   "metadata": {
    "collapsed": false,
    "pycharm": {
     "name": "#%%\n"
    }
   }
  },
  {
   "cell_type": "code",
   "execution_count": 87,
   "outputs": [
    {
     "data": {
      "text/plain": "OneVsRestClassifier(estimator=LogisticRegression())",
      "text/html": "<style>#sk-container-id-8 {color: black;background-color: white;}#sk-container-id-8 pre{padding: 0;}#sk-container-id-8 div.sk-toggleable {background-color: white;}#sk-container-id-8 label.sk-toggleable__label {cursor: pointer;display: block;width: 100%;margin-bottom: 0;padding: 0.3em;box-sizing: border-box;text-align: center;}#sk-container-id-8 label.sk-toggleable__label-arrow:before {content: \"▸\";float: left;margin-right: 0.25em;color: #696969;}#sk-container-id-8 label.sk-toggleable__label-arrow:hover:before {color: black;}#sk-container-id-8 div.sk-estimator:hover label.sk-toggleable__label-arrow:before {color: black;}#sk-container-id-8 div.sk-toggleable__content {max-height: 0;max-width: 0;overflow: hidden;text-align: left;background-color: #f0f8ff;}#sk-container-id-8 div.sk-toggleable__content pre {margin: 0.2em;color: black;border-radius: 0.25em;background-color: #f0f8ff;}#sk-container-id-8 input.sk-toggleable__control:checked~div.sk-toggleable__content {max-height: 200px;max-width: 100%;overflow: auto;}#sk-container-id-8 input.sk-toggleable__control:checked~label.sk-toggleable__label-arrow:before {content: \"▾\";}#sk-container-id-8 div.sk-estimator input.sk-toggleable__control:checked~label.sk-toggleable__label {background-color: #d4ebff;}#sk-container-id-8 div.sk-label input.sk-toggleable__control:checked~label.sk-toggleable__label {background-color: #d4ebff;}#sk-container-id-8 input.sk-hidden--visually {border: 0;clip: rect(1px 1px 1px 1px);clip: rect(1px, 1px, 1px, 1px);height: 1px;margin: -1px;overflow: hidden;padding: 0;position: absolute;width: 1px;}#sk-container-id-8 div.sk-estimator {font-family: monospace;background-color: #f0f8ff;border: 1px dotted black;border-radius: 0.25em;box-sizing: border-box;margin-bottom: 0.5em;}#sk-container-id-8 div.sk-estimator:hover {background-color: #d4ebff;}#sk-container-id-8 div.sk-parallel-item::after {content: \"\";width: 100%;border-bottom: 1px solid gray;flex-grow: 1;}#sk-container-id-8 div.sk-label:hover label.sk-toggleable__label {background-color: #d4ebff;}#sk-container-id-8 div.sk-serial::before {content: \"\";position: absolute;border-left: 1px solid gray;box-sizing: border-box;top: 0;bottom: 0;left: 50%;z-index: 0;}#sk-container-id-8 div.sk-serial {display: flex;flex-direction: column;align-items: center;background-color: white;padding-right: 0.2em;padding-left: 0.2em;position: relative;}#sk-container-id-8 div.sk-item {position: relative;z-index: 1;}#sk-container-id-8 div.sk-parallel {display: flex;align-items: stretch;justify-content: center;background-color: white;position: relative;}#sk-container-id-8 div.sk-item::before, #sk-container-id-8 div.sk-parallel-item::before {content: \"\";position: absolute;border-left: 1px solid gray;box-sizing: border-box;top: 0;bottom: 0;left: 50%;z-index: -1;}#sk-container-id-8 div.sk-parallel-item {display: flex;flex-direction: column;z-index: 1;position: relative;background-color: white;}#sk-container-id-8 div.sk-parallel-item:first-child::after {align-self: flex-end;width: 50%;}#sk-container-id-8 div.sk-parallel-item:last-child::after {align-self: flex-start;width: 50%;}#sk-container-id-8 div.sk-parallel-item:only-child::after {width: 0;}#sk-container-id-8 div.sk-dashed-wrapped {border: 1px dashed gray;margin: 0 0.4em 0.5em 0.4em;box-sizing: border-box;padding-bottom: 0.4em;background-color: white;}#sk-container-id-8 div.sk-label label {font-family: monospace;font-weight: bold;display: inline-block;line-height: 1.2em;}#sk-container-id-8 div.sk-label-container {text-align: center;}#sk-container-id-8 div.sk-container {/* jupyter's `normalize.less` sets `[hidden] { display: none; }` but bootstrap.min.css set `[hidden] { display: none !important; }` so we also need the `!important` here to be able to override the default hidden behavior on the sphinx rendered scikit-learn.org. See: https://github.com/scikit-learn/scikit-learn/issues/21755 */display: inline-block !important;position: relative;}#sk-container-id-8 div.sk-text-repr-fallback {display: none;}</style><div id=\"sk-container-id-8\" class=\"sk-top-container\"><div class=\"sk-text-repr-fallback\"><pre>OneVsRestClassifier(estimator=LogisticRegression())</pre><b>In a Jupyter environment, please rerun this cell to show the HTML representation or trust the notebook. <br />On GitHub, the HTML representation is unable to render, please try loading this page with nbviewer.org.</b></div><div class=\"sk-container\" hidden><div class=\"sk-item sk-dashed-wrapped\"><div class=\"sk-label-container\"><div class=\"sk-label sk-toggleable\"><input class=\"sk-toggleable__control sk-hidden--visually\" id=\"sk-estimator-id-12\" type=\"checkbox\" ><label for=\"sk-estimator-id-12\" class=\"sk-toggleable__label sk-toggleable__label-arrow\">OneVsRestClassifier</label><div class=\"sk-toggleable__content\"><pre>OneVsRestClassifier(estimator=LogisticRegression())</pre></div></div></div><div class=\"sk-parallel\"><div class=\"sk-parallel-item\"><div class=\"sk-item\"><div class=\"sk-label-container\"><div class=\"sk-label sk-toggleable\"><input class=\"sk-toggleable__control sk-hidden--visually\" id=\"sk-estimator-id-13\" type=\"checkbox\" ><label for=\"sk-estimator-id-13\" class=\"sk-toggleable__label sk-toggleable__label-arrow\">estimator: LogisticRegression</label><div class=\"sk-toggleable__content\"><pre>LogisticRegression()</pre></div></div></div><div class=\"sk-serial\"><div class=\"sk-item\"><div class=\"sk-estimator sk-toggleable\"><input class=\"sk-toggleable__control sk-hidden--visually\" id=\"sk-estimator-id-14\" type=\"checkbox\" ><label for=\"sk-estimator-id-14\" class=\"sk-toggleable__label sk-toggleable__label-arrow\">LogisticRegression</label><div class=\"sk-toggleable__content\"><pre>LogisticRegression()</pre></div></div></div></div></div></div></div></div></div></div>"
     },
     "execution_count": 87,
     "metadata": {},
     "output_type": "execute_result"
    }
   ],
   "source": [
    "vectorize_text = current_vectorizer.fit_transform(learn_data.Text)\n",
    "current_classifier.fit(vectorize_text, learn_data.Category)"
   ],
   "metadata": {
    "collapsed": false,
    "pycharm": {
     "name": "#%%\n"
    }
   }
  },
  {
   "cell_type": "code",
   "execution_count": 88,
   "outputs": [
    {
     "name": "stdout",
     "output_type": "stream",
     "text": [
      "0.74\n"
     ]
    }
   ],
   "source": [
    "vectorize_text = current_vectorizer.transform(test_data.Text)\n",
    "score = current_classifier.score(vectorize_text, test_data.Category)\n",
    "print(score)"
   ],
   "metadata": {
    "collapsed": false,
    "pycharm": {
     "name": "#%%\n"
    }
   }
  },
  {
   "cell_type": "code",
   "execution_count": 89,
   "outputs": [],
   "source": [
    "csv_arr = []\n",
    "for index, row in test_data.iterrows():\n",
    "    text = row[0]\n",
    "    answer = row[1]\n",
    "    vectorize_text  = current_vectorizer.transform([text])\n",
    "    predict = current_classifier.predict(vectorize_text)[0]\n",
    "\n",
    "    if predict == answer:\n",
    "        result = \"correct\"\n",
    "    else:\n",
    "        result = \"incorrect\"\n",
    "    csv_arr.append([len(csv_arr), text, answer, predict, result])"
   ],
   "metadata": {
    "collapsed": false,
    "pycharm": {
     "name": "#%%\n"
    }
   }
  },
  {
   "cell_type": "code",
   "execution_count": 90,
   "outputs": [],
   "source": [
    "with open(\"data/test_score_3.csv\", \"w\", newline = \"\") as f:\n",
    "    writer = csv.writer(f)\n",
    "    writer.writerow([\"#\", \"Text\", \"Answer\", \"Prediction\", \"Result\"])\n",
    "\n",
    "    for row in csv_arr:\n",
    "        writer.writerow(row)"
   ],
   "metadata": {
    "collapsed": false,
    "pycharm": {
     "name": "#%%\n"
    }
   }
  },
  {
   "cell_type": "code",
   "execution_count": 100,
   "outputs": [],
   "source": [
    "def predict(message, vectorizer, classifier):\n",
    "    vectorize_message = vectorizer.transform([message])\n",
    "    predict = classifier.predict(vectorize_message)[0]\n",
    "    return predict"
   ],
   "metadata": {
    "collapsed": false,
    "pycharm": {
     "name": "#%%\n"
    }
   }
  },
  {
   "cell_type": "code",
   "execution_count": 110,
   "outputs": [],
   "source": [
    "preds_arr = []\n",
    "for msg in complete_data.Text:\n",
    "    res = predict(msg, current_vectorizer, current_classifier)\n",
    "    preds_arr.append([msg, res])"
   ],
   "metadata": {
    "collapsed": false,
    "pycharm": {
     "name": "#%%\n"
    }
   }
  },
  {
   "cell_type": "code",
   "execution_count": 106,
   "outputs": [],
   "source": [
    "test_msg = \"Foreign Affairs C.S Amb Raychelle Omamo today bid farewell to H.E Loh Sock Tiong, outgoing High Commissioner of Malaysia after his tour of duty. The C.S praised efforts made by the High Commission\""
   ],
   "metadata": {
    "collapsed": false,
    "pycharm": {
     "name": "#%%\n"
    }
   }
  },
  {
   "cell_type": "code",
   "execution_count": 116,
   "outputs": [],
   "source": [
    "with open(\"data/predictions.csv\", \"w\", encoding = \"utf-8\", newline = \"\") as f:\n",
    "    writer = csv.writer(f)\n",
    "    writer.writerow([\"Text\", \"Prediction\"])\n",
    "\n",
    "    for row in preds_arr:\n",
    "        writer.writerow(row)"
   ],
   "metadata": {
    "collapsed": false,
    "pycharm": {
     "name": "#%%\n"
    }
   }
  },
  {
   "cell_type": "code",
   "execution_count": null,
   "outputs": [],
   "source": [],
   "metadata": {
    "collapsed": false,
    "pycharm": {
     "name": "#%%\n"
    }
   }
  }
 ],
 "metadata": {
  "kernelspec": {
   "display_name": "Python 3",
   "language": "python",
   "name": "python3"
  },
  "language_info": {
   "codemirror_mode": {
    "name": "ipython",
    "version": 2
   },
   "file_extension": ".py",
   "mimetype": "text/x-python",
   "name": "python",
   "nbconvert_exporter": "python",
   "pygments_lexer": "ipython2",
   "version": "2.7.6"
  }
 },
 "nbformat": 4,
 "nbformat_minor": 0
}