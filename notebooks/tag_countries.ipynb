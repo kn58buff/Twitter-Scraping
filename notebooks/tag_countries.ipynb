{
 "cells": [
  {
   "cell_type": "code",
   "execution_count": 1,
   "metadata": {},
   "outputs": [],
   "source": [
    "import pandas as pd\n",
    "import csv\n",
    "import regex as re\n",
    "pd.set_option('display.max_rows', None)\n",
    "pd.set_option('display.max_columns', None)\n",
    "pd.set_option('display.width', None)\n",
    "pd.set_option('display.max_colwidth', None)"
   ]
  },
  {
   "cell_type": "code",
   "execution_count": 2,
   "metadata": {},
   "outputs": [],
   "source": [
    "main = pd.read_csv(\"data/labeled_tweets/labeled_target_data.csv\")\n",
    "subset = main.loc[(main[\"Label\"] != \"Unrelated\")].reset_index(drop = True)"
   ]
  },
  {
   "cell_type": "code",
   "execution_count": 3,
   "metadata": {},
   "outputs": [],
   "source": [
    "#subset.to_csv(\"data/labeled_tweets/related_data.csv\", index=False)"
   ]
  },
  {
   "cell_type": "code",
   "execution_count": 4,
   "metadata": {},
   "outputs": [],
   "source": [
    "data = pd.read_csv(\"data/labeled_tweets/related_data.csv\")"
   ]
  },
  {
   "cell_type": "code",
   "execution_count": 5,
   "metadata": {},
   "outputs": [
    {
     "data": {
      "text/html": [
       "<div>\n",
       "<style scoped>\n",
       "    .dataframe tbody tr th:only-of-type {\n",
       "        vertical-align: middle;\n",
       "    }\n",
       "\n",
       "    .dataframe tbody tr th {\n",
       "        vertical-align: top;\n",
       "    }\n",
       "\n",
       "    .dataframe thead th {\n",
       "        text-align: right;\n",
       "    }\n",
       "</style>\n",
       "<table border=\"1\" class=\"dataframe\">\n",
       "  <thead>\n",
       "    <tr style=\"text-align: right;\">\n",
       "      <th></th>\n",
       "      <th>Date</th>\n",
       "      <th>Text</th>\n",
       "      <th>Label</th>\n",
       "      <th>Country</th>\n",
       "    </tr>\n",
       "  </thead>\n",
       "  <tbody>\n",
       "    <tr>\n",
       "      <th>0</th>\n",
       "      <td>4/13/2022</td>\n",
       "      <td>CS Amb. Raychelle Omamo held a press briefing on the visit by the Special Envoy from the Kingdom of Saudi Arabia H.E. Minister Ahmed Bin Abdulaziz Kattan, who delivered a good will message to H.E President Uhuru Kenyatta from King Salman Bin Abdulaziz Al Saud of Saudi Arabia.</td>\n",
       "      <td>Receive</td>\n",
       "      <td>NaN</td>\n",
       "    </tr>\n",
       "    <tr>\n",
       "      <th>1</th>\n",
       "      <td>4/8/2022</td>\n",
       "      <td>President Yoweri K. Museveni of the Republic of Uganda arrives in Kenya to witness the signing ceremony of the treaty of Accession by Democratic Republic of Congo to the East Africa Community (EAC). H.E  Museveni was received at #JKIA by C.S Foreign Affairs Amb. Raychelle Omamo</td>\n",
       "      <td>Receive</td>\n",
       "      <td>NaN</td>\n",
       "    </tr>\n",
       "    <tr>\n",
       "      <th>2</th>\n",
       "      <td>4/5/2022</td>\n",
       "      <td>C.S Amb. Raychelle Omamo met with H.E Mrs. Liesje Schreinermacher, Minister for Foreign Trade and Development of the Netherlands. The two reaffirmed longstanding bilateral ties and cooperation with Kenya in areas of agriculture which C.S said was key to Kenya food security.</td>\n",
       "      <td>Away</td>\n",
       "      <td>NaN</td>\n",
       "    </tr>\n",
       "    <tr>\n",
       "      <th>3</th>\n",
       "      <td>4/5/2022</td>\n",
       "      <td>On his official visit to Dublin 🇮🇪 PS @AmbMKamau accompanied by Amb. Mubea, paid a courtesy call to Mr. Joe Hackett, Secretary General Department of Foreign Affairs. Discussions centered around strengthening Kenya/ Ireland engagement on both bilateral and multilateral levels.</td>\n",
       "      <td>Away</td>\n",
       "      <td>NaN</td>\n",
       "    </tr>\n",
       "    <tr>\n",
       "      <th>4</th>\n",
       "      <td>4/4/2022</td>\n",
       "      <td>PS @AmbMKamau and Hon. Leslie Campbell, Minister of State in the Ministry of Foreign Affairs and Foreign Trade of Jamaica held bilateral talks on increasing cooperation between the two African nations; including on Blue Economy and exchange of best practices in various industries</td>\n",
       "      <td>Away</td>\n",
       "      <td>NaN</td>\n",
       "    </tr>\n",
       "    <tr>\n",
       "      <th>5</th>\n",
       "      <td>4/2/2022</td>\n",
       "      <td>PS @AmbMKamau met with Mr. Tiago Pitta e Cunha,CEO of the Oceano Azul Foundation as he wrapped up his official visit in Portugal. They discussed possible areas of Cooperation in marine science and education; partnerships in Ocean dialogue and the promise of leaving no one behind.</td>\n",
       "      <td>Away</td>\n",
       "      <td>NaN</td>\n",
       "    </tr>\n",
       "    <tr>\n",
       "      <th>6</th>\n",
       "      <td>4/1/2022</td>\n",
       "      <td>Foreign Affairs PS @AmbMKamau today paid a courtesy call to the Secretary of State for Foreign Affairs, Mr. Francisco Andre, during his official visit to Portugal ahead of the proposed state visit on the margins of #UNOC.</td>\n",
       "      <td>Away</td>\n",
       "      <td>NaN</td>\n",
       "    </tr>\n",
       "    <tr>\n",
       "      <th>7</th>\n",
       "      <td>3/27/2022</td>\n",
       "      <td>1/3  CS @ForeignOfficeKE Amb. Raychelle Omamo travelled to Doha, Qatar to attend the Doha Forum 2022, held on 26th and 27th March 2022. #DohaForum</td>\n",
       "      <td>Away</td>\n",
       "      <td>NaN</td>\n",
       "    </tr>\n",
       "    <tr>\n",
       "      <th>8</th>\n",
       "      <td>3/21/2022</td>\n",
       "      <td>1/2  CS @ForeignOfficeKE Amb. Raychelle Omamo today held talks with the newly appointed Special Envoy of the People's Republic of China to the Horn of Africa H.E. Xue Bing.</td>\n",
       "      <td>Receive</td>\n",
       "      <td>NaN</td>\n",
       "    </tr>\n",
       "    <tr>\n",
       "      <th>9</th>\n",
       "      <td>3/18/2022</td>\n",
       "      <td>1/2 PS @AmbMKamau  held bilateral talks with Amb. Xue Bing newly appointed special envoy of the people's Republic of China to the Horn of Africa.</td>\n",
       "      <td>Receive</td>\n",
       "      <td>NaN</td>\n",
       "    </tr>\n",
       "  </tbody>\n",
       "</table>\n",
       "</div>"
      ],
      "text/plain": [
       "        Date  \\\n",
       "0  4/13/2022   \n",
       "1   4/8/2022   \n",
       "2   4/5/2022   \n",
       "3   4/5/2022   \n",
       "4   4/4/2022   \n",
       "5   4/2/2022   \n",
       "6   4/1/2022   \n",
       "7  3/27/2022   \n",
       "8  3/21/2022   \n",
       "9  3/18/2022   \n",
       "\n",
       "                                                                                                                                                                                                                                                                                       Text  \\\n",
       "0      CS Amb. Raychelle Omamo held a press briefing on the visit by the Special Envoy from the Kingdom of Saudi Arabia H.E. Minister Ahmed Bin Abdulaziz Kattan, who delivered a good will message to H.E President Uhuru Kenyatta from King Salman Bin Abdulaziz Al Saud of Saudi Arabia.   \n",
       "1    President Yoweri K. Museveni of the Republic of Uganda arrives in Kenya to witness the signing ceremony of the treaty of Accession by Democratic Republic of Congo to the East Africa Community (EAC). H.E  Museveni was received at #JKIA by C.S Foreign Affairs Amb. Raychelle Omamo   \n",
       "2        C.S Amb. Raychelle Omamo met with H.E Mrs. Liesje Schreinermacher, Minister for Foreign Trade and Development of the Netherlands. The two reaffirmed longstanding bilateral ties and cooperation with Kenya in areas of agriculture which C.S said was key to Kenya food security.   \n",
       "3      On his official visit to Dublin 🇮🇪 PS @AmbMKamau accompanied by Amb. Mubea, paid a courtesy call to Mr. Joe Hackett, Secretary General Department of Foreign Affairs. Discussions centered around strengthening Kenya/ Ireland engagement on both bilateral and multilateral levels.   \n",
       "4  PS @AmbMKamau and Hon. Leslie Campbell, Minister of State in the Ministry of Foreign Affairs and Foreign Trade of Jamaica held bilateral talks on increasing cooperation between the two African nations; including on Blue Economy and exchange of best practices in various industries   \n",
       "5  PS @AmbMKamau met with Mr. Tiago Pitta e Cunha,CEO of the Oceano Azul Foundation as he wrapped up his official visit in Portugal. They discussed possible areas of Cooperation in marine science and education; partnerships in Ocean dialogue and the promise of leaving no one behind.   \n",
       "6                                                             Foreign Affairs PS @AmbMKamau today paid a courtesy call to the Secretary of State for Foreign Affairs, Mr. Francisco Andre, during his official visit to Portugal ahead of the proposed state visit on the margins of #UNOC.   \n",
       "7                                                                                                                                        1/3  CS @ForeignOfficeKE Amb. Raychelle Omamo travelled to Doha, Qatar to attend the Doha Forum 2022, held on 26th and 27th March 2022. #DohaForum   \n",
       "8                                                                                                              1/2  CS @ForeignOfficeKE Amb. Raychelle Omamo today held talks with the newly appointed Special Envoy of the People's Republic of China to the Horn of Africa H.E. Xue Bing.   \n",
       "9                                                                                                                                         1/2 PS @AmbMKamau  held bilateral talks with Amb. Xue Bing newly appointed special envoy of the people's Republic of China to the Horn of Africa.   \n",
       "\n",
       "     Label  Country  \n",
       "0  Receive      NaN  \n",
       "1  Receive      NaN  \n",
       "2     Away      NaN  \n",
       "3     Away      NaN  \n",
       "4     Away      NaN  \n",
       "5     Away      NaN  \n",
       "6     Away      NaN  \n",
       "7     Away      NaN  \n",
       "8  Receive      NaN  \n",
       "9  Receive      NaN  "
      ]
     },
     "execution_count": 5,
     "metadata": {},
     "output_type": "execute_result"
    }
   ],
   "source": [
    "data.head(10)"
   ]
  },
  {
   "cell_type": "code",
   "execution_count": 28,
   "metadata": {},
   "outputs": [],
   "source": [
    "# read list of countries and remove Kenya from list\n",
    "countries = list(pd.read_csv(\"data/countries.csv\").drop(112).reset_index()[\"name\"])\n",
    "\n",
    "#print(countries) # uncomment to check if correct"
   ]
  },
  {
   "cell_type": "code",
   "execution_count": 30,
   "metadata": {},
   "outputs": [],
   "source": [
    "country_series = []\n",
    "for text in data[\"Text\"]:\n",
    "    possible_countries = []\n",
    "    for country in countries:\n",
    "        if country in text:\n",
    "            possible_countries.append(country)\n",
    "    if len(possible_countries) == 1:\n",
    "        country_series.append(possible_countries[0])\n",
    "    else:\n",
    "        country_series.append(\"I\")"
   ]
  },
  {
   "cell_type": "code",
   "execution_count": 48,
   "metadata": {},
   "outputs": [],
   "source": [
    "rel_countries = pd.Series(country_series)"
   ]
  },
  {
   "cell_type": "code",
   "execution_count": 62,
   "metadata": {},
   "outputs": [
    {
     "name": "stdout",
     "output_type": "stream",
     "text": [
      "[39, 113, 115, 139, 147, 162, 163, 169, 198, 237, 239, 250, 252, 253, 306, 327, 337, 338, 347, 362, 370, 420, 424, 433, 459, 500, 501, 503, 518, 521, 531, 532, 533, 534, 535]\n"
     ]
    }
   ],
   "source": [
    "entries_to_investigate = [k for k in rel_countries.loc[lambda x:x == \"I\"].index]\n",
    "print(entries_to_investigate[:])"
   ]
  },
  {
   "cell_type": "code",
   "execution_count": 100,
   "metadata": {},
   "outputs": [],
   "source": [
    "rel_countries.iloc[29] = \"Nigeria\"\n",
    "rel_countries.iloc[32] = \"United States\"\n",
    "rel_countries.iloc[37] = \"United States\"\n",
    "rel_countries.iloc[39] = \"United Kingdom\"\n",
    "rel_countries.iloc[113] = \"Sudan\"\n",
    "rel_countries.iloc[115] = \"Sudan\"\n",
    "rel_countries.iloc[139] = \"Norway\"\n",
    "rel_countries.iloc[147] = \"United States\"\n",
    "rel_countries.iloc[162] = \"Mauritius\"\n",
    "rel_countries.iloc[163] = \"Mauritius\"\n",
    "rel_countries.iloc[169] = \"Nigeria\"\n",
    "rel_countries.iloc[198] = \"Japan\"\n",
    "rel_countries.iloc[237] = \"Ethiopia\"\n",
    "rel_countries.iloc[239] = \"China\"\n",
    "rel_countries.iloc[250] = \"Ethiopia\"\n",
    "rel_countries.iloc[252] = \"Ethiopia\"\n",
    "rel_countries.iloc[253] = \"Ethiopia\"\n",
    "rel_countries.iloc[306] = \"Djibouti\"\n",
    "rel_countries.iloc[327] = \"Sudan\"\n",
    "rel_countries.iloc[337] = \"Mali\"\n",
    "rel_countries.iloc[338] = \"Mali\"\n",
    "rel_countries.iloc[347] = \"Nigeria\"\n",
    "rel_countries.iloc[362] = \"Ghana\"\n",
    "rel_countries.iloc[370] = \"Jordan\"\n",
    "rel_countries.iloc[420] = \"Tanzania\"\n",
    "rel_countries.iloc[424] = \"Moscow\"\n",
    "rel_countries.iloc[433] = \"Rwanda\"\n",
    "rel_countries.iloc[459] = \"Sweden\"\n",
    "rel_countries.iloc[500] = \"Equatorial Guinea\"\n",
    "rel_countries.iloc[501] = \"Equatorial Guinea\"\n",
    "rel_countries.iloc[503] = \"Equatorial Guinea\"\n",
    "rel_countries.iloc[518] = \"Nigeria\"\n",
    "rel_countries.iloc[521] = \"Nigeria\"\n",
    "rel_countries.iloc[531] = \"Nigeria\"\n",
    "rel_countries.iloc[532] = \"Nigeria\"\n",
    "rel_countries.iloc[533] = \"Nigeria\"\n",
    "rel_countries.iloc[534] = \"Nigeria\"\n",
    "rel_countries.iloc[535] = \"Nigeria\""
   ]
  },
  {
   "cell_type": "code",
   "execution_count": 108,
   "metadata": {},
   "outputs": [],
   "source": [
    "data[\"Country\"] = rel_countries"
   ]
  },
  {
   "cell_type": "code",
   "execution_count": null,
   "metadata": {
    "pycharm": {
     "is_executing": true
    }
   },
   "outputs": [],
   "source": [
    "data.head(10)"
   ]
  },
  {
   "cell_type": "code",
   "execution_count": 110,
   "metadata": {},
   "outputs": [],
   "source": [
    "data.to_csv(\"data/labeled_tweets/complete_data.csv\", index=False)"
   ]
  },
  {
   "cell_type": "code",
   "execution_count": null,
   "metadata": {},
   "outputs": [],
   "source": []
  }
 ],
 "metadata": {
  "kernelspec": {
   "display_name": "Python 3",
   "language": "python",
   "name": "python3"
  },
  "language_info": {
   "codemirror_mode": {
    "name": "ipython",
    "version": 3
   },
   "file_extension": ".py",
   "mimetype": "text/x-python",
   "name": "python",
   "nbconvert_exporter": "python",
   "pygments_lexer": "ipython3",
   "version": "3.9.0"
  }
 },
 "nbformat": 4,
 "nbformat_minor": 1
}
