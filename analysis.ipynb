{
 "cells": [
  {
   "cell_type": "code",
   "execution_count": 29,
   "outputs": [],
   "source": [
    "import pandas as pd\n",
    "import pprint as pp\n",
    "import spacy\n",
    "import sklearn\n",
    "import random\n",
    "import torch"
   ],
   "metadata": {
    "collapsed": false,
    "pycharm": {
     "name": "#%%\n"
    }
   }
  },
  {
   "cell_type": "code",
   "execution_count": 2,
   "outputs": [],
   "source": [
    "# Configure format settings for pandas\n",
    "pd.set_option('display.max_rows', None)\n",
    "pd.set_option('display.max_columns', None)\n",
    "pd.set_option('display.width', None)\n",
    "pd.set_option('display.max_colwidth', None)"
   ],
   "metadata": {
    "collapsed": false,
    "pycharm": {
     "name": "#%%\n"
    }
   }
  },
  {
   "cell_type": "code",
   "execution_count": 3,
   "outputs": [],
   "source": [
    "data = pd.read_csv(\"data/target_data.csv\")"
   ],
   "metadata": {
    "collapsed": false,
    "pycharm": {
     "name": "#%%\n"
    }
   }
  },
  {
   "cell_type": "code",
   "execution_count": 4,
   "outputs": [],
   "source": [
    "data = data.reset_index()"
   ],
   "metadata": {
    "collapsed": false,
    "pycharm": {
     "name": "#%%\n"
    }
   }
  },
  {
   "cell_type": "code",
   "execution_count": 22,
   "outputs": [],
   "source": [
    "class Category:\n",
    "    RECEIVE = \"RECEIVE\"\n",
    "    AWAY = \"AWAY\"\n",
    "    UNRELATED = \"UNRELATED\""
   ],
   "metadata": {
    "collapsed": false,
    "pycharm": {
     "name": "#%%\n"
    }
   }
  },
  {
   "cell_type": "code",
   "execution_count": 44,
   "outputs": [],
   "source": [
    "nlp = spacy.load(\"en_core_web_lg\")"
   ],
   "metadata": {
    "collapsed": false,
    "pycharm": {
     "name": "#%%\n"
    }
   }
  },
  {
   "cell_type": "code",
   "execution_count": 9,
   "outputs": [],
   "source": [
    "# Take random sample of tweets (n = 100)\n",
    "list_of_tweets = []\n",
    "for text in data[\"Text\"]:\n",
    "    list_of_tweets.append(text)"
   ],
   "metadata": {
    "collapsed": false,
    "pycharm": {
     "name": "#%%\n"
    }
   }
  },
  {
   "cell_type": "code",
   "execution_count": 10,
   "outputs": [
    {
     "data": {
      "text/plain": "3328"
     },
     "execution_count": 10,
     "metadata": {},
     "output_type": "execute_result"
    }
   ],
   "source": [
    "len(list_of_tweets)"
   ],
   "metadata": {
    "collapsed": false,
    "pycharm": {
     "name": "#%%\n"
    }
   }
  },
  {
   "cell_type": "code",
   "execution_count": 11,
   "outputs": [],
   "source": [
    "tuple_of_tweets = tuple(list_of_tweets)"
   ],
   "metadata": {
    "collapsed": false,
    "pycharm": {
     "name": "#%%\n"
    }
   }
  },
  {
   "cell_type": "code",
   "execution_count": 14,
   "outputs": [],
   "source": [
    "sample = random.sample(tuple_of_tweets, 100)"
   ],
   "metadata": {
    "collapsed": false,
    "pycharm": {
     "name": "#%%\n"
    }
   }
  },
  {
   "cell_type": "code",
   "execution_count": 40,
   "outputs": [
    {
     "data": {
      "text/plain": "[\"CS @ Amb_A_Mohammed presents letter of credence to Mr. Bilak Asif, Kenya's New Honorary Consul in Jakarta, Indonesia.\",\n '#UNCTAD14 President CS @AMB_A_Mohammed holds bilateral with  Czech Republic delegation to #UNCTAD14 Nairobi',\n 'Japan, China battle for influence good for Kenya - Amina',\n '@twittinibra: Otieno in Egypt, Wafula in Ireland...',\n 'Kenya, Nigeria bilateral trade relations is the way to go\\nThe Nigerian delegation that visited Kenya last week...',\n 'Kenya, Uganda Agree on Joint Ministerial Commission\\nKenya and have agreed to establish a Joint Ministerial...',\n 'CS @AMB_A_Mohammed: With PS Monica Juma at Jomo Kenyatta International Airport, Nairobi, receiving Ugandan President H.E. Yoweri Kaguta Museveni on arrival for one-day official visit.',\n 'Foreign Affairs CAS @AbabuNamwamba earlier today at JKIA received\\xa0Islamic Republic of Iran Vice President for Science and Technology H.E Dr. Sorena Sattari who is in Kenya on a three day visit. Dr Sorena is also leading a business delegation to Kenya.',\n 'CS @AMB_A_Mohammed: Kenya stands in solidarity with Germany in denoucing &amp; combating senseless &amp; indefensible acts of violence',\n 'H.E @UKenyatta receives credentials from the incoming Turkey Ambassador to Kenya Ms Deniz Eke at State House, Nairobi',\n \"Jordan's King Abdullah II arrives tomorrow for talks with President Kenyatta; South Africa's Jacob Zuma to visit on October 11, 2016.\",\n 'CS Monica Juma: I join South Africa and the women fraternity in mourning the loss of a trail blazer for women in leadership in Africa, a freedom fighter, a indominatible campaigner for social justice;...',\n 'Foreign Affairs CAS @AbabuNamwamba  is in Addis Ababa Ethiopia for the 47th Session of the IGAD Council of Ministers meeting, to adopt a new Treaty for IGAD and review institutional structures to make it more responsive to regional challenges.',\n 'CS Monica Juma and visiting Foreign Minister of Sweden H.E Margot Wallström addressed the media on Kenya- Sweden bilateral relations, regional political developments, climate change, and women, peace and security issues @ForeignOfficeKE',\n '@AMB_A_Mohammed: This is the largest contingent of Japanese businessmen to visit the Kenya. #KenyaJapan',\n 'Cabinet Secretary Amb. #MonicaJuma held bilateral meeting with her counterpart H.E. Manuel Augusto, Minister for External Relations in Luanda, Angola.',\n \"H.E @UKenyatta Special Envoy, CS Sicily Kariuki, meets Guinean President Alpha Condé to present message on Kenya's candidature for AUC.\",\n \"Abbas, Kenya's new Ambasador to Kuwait, met Al Sabah who is also the Minister of Foreign Affairs on Sunday December 7, 2014.\",\n 'The special Summit has been convened by EAC Chairman @jmkikwete to seek an amicable solution to the Burundi crisis',\n 'Political &amp;Diplomatic Secretary, Amb. Tom Amollo held a meeting with H.E Dr. Mohammed A. Khayat, Ambassador of the Kingdom of Saudi Arabia to Kenya, who paid a courtesy call on him.They discussed bilateral issues between the two countries.',\n 'Kenya Ambassador to Japan Amb.Solomon Maina at the dinner hosted for the visiting Japanese business delegation',\n 'Hon @AbabuNamwamba and Ambassador Trott underscored the importance of continued partnership between the Intergovernmental Authority on Development  (IGAD) and UK in support of the South Sudan Peace Process',\n \"CAS Hon @AbabuNamwamba  held bilateral talks with Terens- Nikolai's Quick, Deputy Foreign Minister of Greece. They discussed a range of issues varying from investment promotion activities, increased multilateral collaboration and support for the Big 4 Agenda.\",\n 'The A3 refers to the bloc of the three (3) African members of the UN Security Council, where Niger, Kenya and Tunisia are its current members, with the plus 1 incorporating the additional member of the Caribbean region, presently Saint Vincent and the Grenadines.',\n 'PS @AmbMKamau participated in the #UN Oceans Advisory Committee meeting held at the Permanent Mission of Portugal to the UN, New York. The meeting deliberated on reinvigorating the preparatory process of Oceans Conference scheduled for June 2022 in  Portugal. Kenya will co-host',\n 'President Kenyatta received by Equatorial Guinea President Teodoro Nguema Mbasogo at Malabo International Airport.',\n 'CS @AMB_A_Mohammed:Kenya-Egypt enjoy excellent bilateral relations &amp; the JCC is a key driver of this special r/ship',\n 'CS Amb Raychelle Omamo officially inaugurated the Kenya High Commission Chancery Building in Maputo. The inauguration officially marks the establishment of the Kenya High Commission in Mozambique, an important step in the deepening of the ties between the two countries.',\n 'CS @AMB_A_Mohammed: Held talks with Vicky Pantazopoulou-Honorary Consul,consulate of Kenya in Athens,Greece. Present was Amb  @amolosango',\n 'CS @AMB_A_Mohammed and PS Monica Juma, welcoming H.E. Workneh Gebeyehu, Ethiopia Foreign Minister who is on a 2-day official visit to Kenya',\n \"CAS @AbabuNamwamba consults with his Sudanese counterpart H.E Omer Gamareldien, State Minister for Foreign Affairs of the Republic of Sudan, and Ethiopia's Workneh Gebeyehu Negewo, the Executive Secretary of IGAD, at the EU-IGAD Ministerial consultative meeting in Khartoum today.\",\n '@rsezibera: The agenda is to consider report by  eminent persons and report of AGs on the issue of Burundi',\n \"1/2 CS Amb. Raychelle Omamo arrived at the Khalid Int'l Airport Saudi Arabia today. She was received by the Chief of Protocol, Ministry of Foreign Affairs, Kenya's Ambassador to Saudi Arabia Amb. Peter N. R. O. Ogego and Ambassador of Saudi Arabia to Kenya Amb. Khalid Al-Salmani\",\n 'CS @AMB_A_Mohammed: Mr. Katsuyuki Kawai, Special Advisor to Japanese PM, addresses the Press Conference on TICAD VI',\n 'Outgoing AU Chair &amp; Mauritania President Abdel Aziz said withdrawal of H.E @Ukenyatta ICC case a victory for Africa.',\n 'Israeli Prime Minister H.E. Benjamin Netanyahu at Jomo Kenyatta International Airport (JKIA) earlier today on arrival for one-day official visit.',\n 'Putin sends condolences to Kenya leader after university attack | Russia Beyond The Headlines',\n '\"@AMB_A_Mohammed: Anyone with information,needs assistance contact @ForeignOfficeKE or Our Amb. ToSouthSudan on +211959099900 - Amb.Leshore\"',\n \"Ministry of Foreign Affairs &amp; International Trade's attention has been drawn to media claims by Indian HC to Kenya H.E Yogeshwar Varma. 1/9\",\n '...Italy, Germany, Switzerland, The Netherlands, Sweden, Finland, Australia and  UN Resident Coordinators.',\n \"CS @AMB_A_Mohammed: Kenya is one of South Africa's leading trade partners in Africa &amp; a major recipient of its FDI\",\n 'CS @AMB_A_Mohammed with Kenya Permanent Representative to UN in New York Amb Macharia Kamau in Windhoek, Namibia.',\n 'CAS @AbabuNamwamba visited the Sports Center of the Football Association of Serbia, among the most modern facilities in Europe. It offers top level training camps in football, handball, volleyball, basketball and martial arts.',\n 'PS @AmbMKamau  together with Amb. Joshua Mugodo, met with Bernard Quintin, Chef de Cabinet of the Vice Minister for Foreign Affairs, Belgium and the Deputy DG for Multilateral Affairs, Werner Bauwens.',\n 'The Young Diplomats Exchange Programme for  fifteen (15) Chinese young diplomats commenced on 29th October, 2018,at the Foreign Service Academy (FSA) of Kenya, and will end on  2nd Nov, 2018. The Kenyan team of young diplomats will leave for the return programme in China in 2019.',\n 'Chief Administrative Secretary, Hon Ababu Namwamba, will this evening be the Chief Guest at the 54th Tanzania Union Day cocktail reception at Kenyatta International Convention Centre (KICC) at 6.30pm. Media is welcome to attend and provide coverage. @AbabuNamwamba @Kiptoock',\n 'CS @AMB_A_Mohammed: H.E @UKenyatta addresses Kenyan students undergoing training in agriculture in Israel',\n 'PDS Amb Tom Amolo today at farewell luncheon for H.E Kwame Asamoah Tankorang High Commissioner of Ghana to Kenya at DusitD2 Hotel Nairobi',\n 'CS @AMB_A_Mohammed: Kenya/Sudan can cooperate in energy, tourism, infrastructure, sugar, oil &amp;mineral exploitation',\n '\"@SirLimo: @AMB_A_Mohammed at JKIA after seeing off China Premier Li, who has been in Kenya for a 3-day state visit.',\n 'H.E. Mounir Nour: Egypt &amp; Kenya will establish a joint business council to promote economic ties between them',\n 'CS @AMB_A_Mohammed: Dr. Tedros Adhanom, Foreign Minister of Ethiopia  led the Ethiopian delegation to the JMC',\n 'CS @AMB_A_Mohammed: These sectors include Trade, Agriculture, Security, Refugees, Immigration, Economic &amp;Political affairs btn Kenya-Somalia',\n 'CS @amb__mohammed today held bilateral talks with H.E. Hans Brattskar, State Secretary for Foreign Affairs of Norway.',\n 'CS @AMB_A_Mohammed I have learnt of the death of 47people believed to be students in Northern Nigeria with a deep sense of sorrow and regret',\n 'C.S Amb Monica Juma @Diplomacy_Kenya joined other foreign ministers for a reception hosted by H.E Workneh Gebeyehu, Minister of Foreign Affairs of the Federal Democratic  Republic of Ethiopia  at Sheraton Hotel last night.',\n 'PS @Karanjakibicho encouraged India investors to consider Kenya as their choice for investment.',\n 'Cabinet Secretary Amb Raychelle Omamo held talks with H.E  Hon Netumbo Nandi-Ndaitwah, Foreign Minister of  Namibia.\\n#UNGA\\n#UNGA76',\n 'H.E Mr. Ernesto Gomez Diaz, outgoing Ambassador of the Republic of Cuba to Kenya yesterday paid a farewell visit to C.S @ForeignOfficeKE Amb. Raychelle Omamo. The C.S thanked the ambassador for enhancing excellent relations that exist between Cuba and Kenya and wished him well.',\n 'Kenya Ambassador to Sudan Amb Aaron Suge pose for a photo with some Kenyans departing Khartoum today. As at July 4. 3199 Kenyans had been facilitated to come home with the latest arriving from Bahrain, Kuwait, South Africa, Burundi and Somalia.10,153 foreigners evacuated from 🇰🇪',\n 'PS Amb Macharia Kamau hosted a luncheon in honour of Mr. Tharman Shanmugaratnam, Deputy Prime Minister and Coordinating Minister for Economic and Social Policies of Singapore and his delegation; The Deputy Prime Minister is in Kenya on a two-day visit.',\n 'CS #MonicaJuma this afternoon held a roundtable meeting on the South Sudan peace process with scholars at the United States Institute of Peace in Washington DC.',\n 'CS Monica Juma is received on arrival for a meeting by Maria del Carmen Concepción González, Minister of Food and Fisheries Industry of Cuba. The meeting was also attended by Gustavo Rodríguez Rollero, Cuban Minister of Agriculture.',\n 'CS @AMB_A_Mohammed: Delivered a special message from H.E @UKenyatta to President Jose Eduardo dos Santos of Angola @tunajibu',\n 'Kenya in Pact with Qatari Government',\n 'CS Amb Raychelle Omamo today held bilateral talks with H.E. Sabri Boukadoum, Minister of Foreign Affairs of Algeria who is on a two day visit to Kenya. They discussed how to strengthen ties, committed to a Joint Commission for Cooperation (JCC) and finalize on MOUs signed.',\n \"Kenyan High Commissioner to Zambia, Amb Sophie Kombe today led celebration of Environment Day/Wangari Maathai Day by carrying out a tree planting exercise at the High Commission in Lusaka graced also by Zambia's PS for Lands.\",\n 'PS @AmbMKamau  held bilateral discussions with Amb. Robert Fairweather, UK Special Envoy to Sudan and South Sudan and Dr. Endre Stiansen, Norwegian Special Envoy to Sudan and South Sudan. Discussions focused on peace and security in the Horn of Africa.',\n 'CS @AMB_A_Mohammed: Transit time from the Port of Mombasa to Malaba on Uganda border has reduced from 13 to 5 days',\n '@amb_a_mohammed Kenya has engaged China since independence and recent trends involve no policy changes 4/7',\n '2/3  The CS was part of a panel discussion on the Economies of war where she emphasized that the COVID-19 crisis and the Ukraine crisis had highlighted the need for Africa to March towards self reliance in the supply chain in terms of health and food products. #DohaForum',\n '2/4 The meeting underscores the importance Kenya attaches to Kenya-China relations based on historic ties that continue to blossom buttressed by strong commercial ties growing from strength to strength and solidified under the Strategic Comprehensive Cooperative Partnership.',\n 'CS @AMB_A_Mohammed: It has been more than a decade since the 8th session of Sudan-Kenya JMC was held in Nairobi,2003',\n 'Also excluded are Kenyan citizens returning home from Sierra Leone, Guinea &amp; Liberia who must, however, undergo extensive screening.3/5',\n 'Ms. Funmi Folorunso delivers African Shipowners Association’s statement of commitment to the Sustainable #BlueEconomyKE conference.@ForeignOfficeKE @BlueEconomy2018 @FishOceansCAN @JapanGov @WWF_Kenya @UNDPKenya',\n 'PS Monica Juma with H.E. Bedializoun Moussa Nebie Burkina Faso Ambassador to Kenya who paid her a courtesy call earlier today.',\n 'They discussed issues surrounding Regional Security and enhancing relations and cooperation between Kenya and the United States.',\n \"The Mandela cow which H.E Uhuru Kenyatta handed to H.E President Evariste Ndayishimiye of Burundi in Kisumu on 31st May 2021 has finally arrived in Burundi together with 50 high-yielding dairy heifers. CS Peter Munya delivered the President's donation to the Gov't of Burundi.\",\n \"Chinese ambassador to Kenya, Amb Sun Baohong today called on PS Macharia Kamau to discuss upcoming visit of Mr. Wang Yang (Chairman of the Chinese people's Political Consultative Conference), as well as Forum on China-Africa Cooperation (FOCAC) meeting scheduled for September.\",\n 'University of Manchester in United Kingdom holds vigil for Garissa University victims',\n 'CS @AMB_A_Mohammed when she hosted Japan Special Envoy for UN Affairs Amb. Seichi Kondo in her office.',\n 'China-Africa Summit to review trade and investment ties ',\n 'CS @AMB_A_Mohammed: Kenya expresses solidarity with ECOWAS and calls for a speedy and bloodless end to the crisis in the Gambia./1',\n 'CS @AMB_A_Mohammed: H.E Uhuru Kenyatta will be making an official visit to the Republic of Sudan in early  2016.1/2',\n 'PS Monica Juma at a luncheon hosted in honor of her visit by Pakistan Foreign Secretary Ms. Terminal Janjua.',\n \"CS @Amb_A_Mohammed: With Mr. Vinay Kumar, Joint Secretary, India's Ministry of External Affairs\",\n 'CS @AMB_A_Mohammed: Received by Kenya HC to United Kingdom Amb Lazarus Amayo on arrival at Heathrow Airport',\n 'CS Amb. #MonicaJuma has arrived in South Africa for a one day official visit. On arrival, she paid a courtesy call on South Africa Minister of Home Affairs, Mr. Malusi Gigaba at Sandton, Johannesburg. She was accompanied by Kenya HC Amb. Jean Kamau and PDS, Amb. Tom Amollo.',\n 'CS @Amb_A_Mohammed: Forum provided a platform to network and exchange business ideas with Indian investors',\n \"CS @AMB_A_Mohammed: On arrival at Sir Seretse Khama Int'l Airport HE @UKenyatta was entertained by Botswana Dancers\",\n 'CS Juma with Cuban Foreign Affairs Minister Bruno Eduardo Rodríguez Parrilla after the official opening of Kenya Mission in Havana.',\n 'Dr Riak Machar S.Sudan former Vice President signs Peace Agreement at UN Economic Commission for Africa in #Addis',\n 'CS @AMB_A_Mohammed: H.E John Pombe Magufuli President of the Republic of Tanzania arrives in Kenya for a two- day State visit.',\n '2/4 CS Omamo conveyed H.E President Uhuru Kenyatta’s appreciation for the continuous collaboration between Member States and the United Nations in generating momentum for the Second United Nations Oceans Conference to be held in Lisbon, Portugal in\\xa0June\\xa02022. #SaveOurOcean',\n '@AbabuNamwamba: Kenya remains committed and optimistic to the IGAD led South Sudan peace process and will continue to add impetus to keep the momentum towards the realization of peace and stability in South Sudan',\n 'CS @AMB_A_Mohammed: We discussed the 4th China Round Table for LDCs &amp; Africa that will be held in December, Nairobi',\n 'CS @AMB_A_Mohammed: Met with President of Palau H.E. Tommy Remengesau during the ongoing #UNGA  2017 in New York.',\n 'The UK Ambassador to Somalia,  H.E Kate OBE  paid a courtesy call on Foreign Affairs PS @AmbMKamau.They discussions focused on Regional security and cooperation.',\n 'In Mali with #UNSC\\n#KenyachairsUNSC\\n#KenyapresidencyUNSC',\n 'CS @AMB_A_Mohammed:Kenya has expressed willingness to enhance high-level exchanges &amp; political mutual trust w/ China']"
     },
     "execution_count": 40,
     "metadata": {},
     "output_type": "execute_result"
    }
   ],
   "source": [
    "train_x"
   ],
   "metadata": {
    "collapsed": false,
    "pycharm": {
     "name": "#%%\n"
    }
   }
  },
  {
   "cell_type": "code",
   "execution_count": 23,
   "outputs": [],
   "source": [
    "train_y = [\n",
    "    Category.UNRELATED,\n",
    "    Category.RECEIVE,\n",
    "    Category.UNRELATED,\n",
    "    Category.AWAY,\n",
    "    Category.RECEIVE,\n",
    "    Category.UNRELATED,\n",
    "    Category.RECEIVE,\n",
    "    Category.RECEIVE,\n",
    "    Category.UNRELATED,\n",
    "    Category.RECEIVE,\n",
    "    Category.RECEIVE,\n",
    "    Category.UNRELATED,\n",
    "    Category.AWAY,\n",
    "    Category.RECEIVE,\n",
    "    Category.RECEIVE,\n",
    "    Category.AWAY,\n",
    "    Category.AWAY,\n",
    "    Category.AWAY,\n",
    "    Category.UNRELATED,\n",
    "    Category.RECEIVE,\n",
    "    Category.RECEIVE,\n",
    "    Category.UNRELATED,\n",
    "    Category.AWAY,\n",
    "    Category.UNRELATED,\n",
    "    Category.AWAY,\n",
    "    Category.AWAY,\n",
    "    Category.UNRELATED,\n",
    "    Category.AWAY,\n",
    "    Category.AWAY,\n",
    "    Category.RECEIVE,\n",
    "    Category.AWAY,\n",
    "    Category.UNRELATED,\n",
    "    Category.AWAY,\n",
    "    Category.UNRELATED,\n",
    "    Category.UNRELATED,\n",
    "    Category.RECEIVE,\n",
    "    Category.UNRELATED,\n",
    "    Category.UNRELATED,\n",
    "    Category.UNRELATED,\n",
    "    Category.UNRELATED,\n",
    "    Category.UNRELATED,\n",
    "    Category.AWAY,\n",
    "    Category.AWAY,\n",
    "    Category.AWAY,\n",
    "    Category.RECEIVE,\n",
    "    Category.UNRELATED,\n",
    "    Category.AWAY,\n",
    "    Category.RECEIVE,\n",
    "    Category.UNRELATED,\n",
    "    Category.RECEIVE,\n",
    "    Category.UNRELATED,\n",
    "    Category.RECEIVE,\n",
    "    Category.UNRELATED,\n",
    "    Category.RECEIVE,\n",
    "    Category.UNRELATED,\n",
    "    Category.AWAY,\n",
    "    Category.UNRELATED,\n",
    "    Category.RECEIVE,\n",
    "    Category.RECEIVE,\n",
    "    Category.AWAY,\n",
    "    Category.RECEIVE,\n",
    "    Category.AWAY,\n",
    "    Category.AWAY,\n",
    "    Category.AWAY,\n",
    "    Category.UNRELATED,\n",
    "    Category.RECEIVE,\n",
    "    Category.AWAY,\n",
    "    Category.RECEIVE,\n",
    "    Category.UNRELATED,\n",
    "    Category.UNRELATED,\n",
    "    Category.AWAY,\n",
    "    Category.UNRELATED,\n",
    "    Category.UNRELATED,\n",
    "    Category.UNRELATED,\n",
    "    Category.RECEIVE,\n",
    "    Category.RECEIVE,\n",
    "    Category.UNRELATED,\n",
    "    Category.AWAY,\n",
    "    Category.RECEIVE,\n",
    "    Category.UNRELATED,\n",
    "    Category.RECEIVE,\n",
    "    Category.AWAY,\n",
    "    Category.UNRELATED,\n",
    "    Category.AWAY,\n",
    "    Category.AWAY,\n",
    "    Category.AWAY,\n",
    "    Category.AWAY,\n",
    "    Category.AWAY,\n",
    "    Category.UNRELATED,\n",
    "    Category.AWAY,\n",
    "    Category.AWAY,\n",
    "    Category.UNRELATED,\n",
    "    Category.RECEIVE,\n",
    "    Category.UNRELATED,\n",
    "    Category.UNRELATED,\n",
    "    Category.AWAY,\n",
    "    Category.AWAY,\n",
    "    Category.RECEIVE,\n",
    "    Category.AWAY,\n",
    "    Category.UNRELATED\n",
    "]"
   ],
   "metadata": {
    "collapsed": false,
    "pycharm": {
     "name": "#%%\n"
    }
   }
  },
  {
   "cell_type": "code",
   "execution_count": 25,
   "outputs": [],
   "source": [
    "from sklearn import svm"
   ],
   "metadata": {
    "collapsed": false,
    "pycharm": {
     "name": "#%%\n"
    }
   }
  },
  {
   "cell_type": "code",
   "execution_count": 45,
   "outputs": [],
   "source": [
    "docs = [nlp(text) for text in train_x]"
   ],
   "metadata": {
    "collapsed": false,
    "pycharm": {
     "name": "#%%\n"
    }
   }
  },
  {
   "cell_type": "code",
   "execution_count": 46,
   "outputs": [],
   "source": [
    "train_x_vecs = [doc.vector for doc in docs]"
   ],
   "metadata": {
    "collapsed": false,
    "pycharm": {
     "name": "#%%\n"
    }
   }
  },
  {
   "cell_type": "code",
   "execution_count": 47,
   "outputs": [],
   "source": [
    "clf_svm = svm.SVC(kernel = \"linear\")"
   ],
   "metadata": {
    "collapsed": false,
    "pycharm": {
     "name": "#%%\n"
    }
   }
  },
  {
   "cell_type": "code",
   "execution_count": 48,
   "outputs": [
    {
     "data": {
      "text/plain": "SVC(kernel='linear')",
      "text/html": "<style>#sk-container-id-1 {color: black;background-color: white;}#sk-container-id-1 pre{padding: 0;}#sk-container-id-1 div.sk-toggleable {background-color: white;}#sk-container-id-1 label.sk-toggleable__label {cursor: pointer;display: block;width: 100%;margin-bottom: 0;padding: 0.3em;box-sizing: border-box;text-align: center;}#sk-container-id-1 label.sk-toggleable__label-arrow:before {content: \"▸\";float: left;margin-right: 0.25em;color: #696969;}#sk-container-id-1 label.sk-toggleable__label-arrow:hover:before {color: black;}#sk-container-id-1 div.sk-estimator:hover label.sk-toggleable__label-arrow:before {color: black;}#sk-container-id-1 div.sk-toggleable__content {max-height: 0;max-width: 0;overflow: hidden;text-align: left;background-color: #f0f8ff;}#sk-container-id-1 div.sk-toggleable__content pre {margin: 0.2em;color: black;border-radius: 0.25em;background-color: #f0f8ff;}#sk-container-id-1 input.sk-toggleable__control:checked~div.sk-toggleable__content {max-height: 200px;max-width: 100%;overflow: auto;}#sk-container-id-1 input.sk-toggleable__control:checked~label.sk-toggleable__label-arrow:before {content: \"▾\";}#sk-container-id-1 div.sk-estimator input.sk-toggleable__control:checked~label.sk-toggleable__label {background-color: #d4ebff;}#sk-container-id-1 div.sk-label input.sk-toggleable__control:checked~label.sk-toggleable__label {background-color: #d4ebff;}#sk-container-id-1 input.sk-hidden--visually {border: 0;clip: rect(1px 1px 1px 1px);clip: rect(1px, 1px, 1px, 1px);height: 1px;margin: -1px;overflow: hidden;padding: 0;position: absolute;width: 1px;}#sk-container-id-1 div.sk-estimator {font-family: monospace;background-color: #f0f8ff;border: 1px dotted black;border-radius: 0.25em;box-sizing: border-box;margin-bottom: 0.5em;}#sk-container-id-1 div.sk-estimator:hover {background-color: #d4ebff;}#sk-container-id-1 div.sk-parallel-item::after {content: \"\";width: 100%;border-bottom: 1px solid gray;flex-grow: 1;}#sk-container-id-1 div.sk-label:hover label.sk-toggleable__label {background-color: #d4ebff;}#sk-container-id-1 div.sk-serial::before {content: \"\";position: absolute;border-left: 1px solid gray;box-sizing: border-box;top: 0;bottom: 0;left: 50%;z-index: 0;}#sk-container-id-1 div.sk-serial {display: flex;flex-direction: column;align-items: center;background-color: white;padding-right: 0.2em;padding-left: 0.2em;position: relative;}#sk-container-id-1 div.sk-item {position: relative;z-index: 1;}#sk-container-id-1 div.sk-parallel {display: flex;align-items: stretch;justify-content: center;background-color: white;position: relative;}#sk-container-id-1 div.sk-item::before, #sk-container-id-1 div.sk-parallel-item::before {content: \"\";position: absolute;border-left: 1px solid gray;box-sizing: border-box;top: 0;bottom: 0;left: 50%;z-index: -1;}#sk-container-id-1 div.sk-parallel-item {display: flex;flex-direction: column;z-index: 1;position: relative;background-color: white;}#sk-container-id-1 div.sk-parallel-item:first-child::after {align-self: flex-end;width: 50%;}#sk-container-id-1 div.sk-parallel-item:last-child::after {align-self: flex-start;width: 50%;}#sk-container-id-1 div.sk-parallel-item:only-child::after {width: 0;}#sk-container-id-1 div.sk-dashed-wrapped {border: 1px dashed gray;margin: 0 0.4em 0.5em 0.4em;box-sizing: border-box;padding-bottom: 0.4em;background-color: white;}#sk-container-id-1 div.sk-label label {font-family: monospace;font-weight: bold;display: inline-block;line-height: 1.2em;}#sk-container-id-1 div.sk-label-container {text-align: center;}#sk-container-id-1 div.sk-container {/* jupyter's `normalize.less` sets `[hidden] { display: none; }` but bootstrap.min.css set `[hidden] { display: none !important; }` so we also need the `!important` here to be able to override the default hidden behavior on the sphinx rendered scikit-learn.org. See: https://github.com/scikit-learn/scikit-learn/issues/21755 */display: inline-block !important;position: relative;}#sk-container-id-1 div.sk-text-repr-fallback {display: none;}</style><div id=\"sk-container-id-1\" class=\"sk-top-container\"><div class=\"sk-text-repr-fallback\"><pre>SVC(kernel=&#x27;linear&#x27;)</pre><b>In a Jupyter environment, please rerun this cell to show the HTML representation or trust the notebook. <br />On GitHub, the HTML representation is unable to render, please try loading this page with nbviewer.org.</b></div><div class=\"sk-container\" hidden><div class=\"sk-item\"><div class=\"sk-estimator sk-toggleable\"><input class=\"sk-toggleable__control sk-hidden--visually\" id=\"sk-estimator-id-1\" type=\"checkbox\" checked><label for=\"sk-estimator-id-1\" class=\"sk-toggleable__label sk-toggleable__label-arrow\">SVC</label><div class=\"sk-toggleable__content\"><pre>SVC(kernel=&#x27;linear&#x27;)</pre></div></div></div></div></div>"
     },
     "execution_count": 48,
     "metadata": {},
     "output_type": "execute_result"
    }
   ],
   "source": [
    "clf_svm.fit(train_x_vecs, train_y)"
   ],
   "metadata": {
    "collapsed": false,
    "pycharm": {
     "name": "#%%\n"
    }
   }
  },
  {
   "cell_type": "code",
   "execution_count": 56,
   "outputs": [],
   "source": [
    "test_sentence  = [\"P.S @ForeignOfficeKE Ambasador Macharia Kamau held bilateral talks with Amb Mohamoud Ahamed Nur, Somalia Ambassador to Kenya and explored new areas of cooperation in the field of culture, trade, ICT, peace and Security. The two looked forward to deepening relations.\"]"
   ],
   "metadata": {
    "collapsed": false,
    "pycharm": {
     "name": "#%%\n"
    }
   }
  },
  {
   "cell_type": "code",
   "execution_count": 57,
   "outputs": [],
   "source": [
    "test_doc = [nlp(text) for text in test_sentence]\n",
    "test_x_vecs = [doc.vector for doc in test_doc]"
   ],
   "metadata": {
    "collapsed": false,
    "pycharm": {
     "name": "#%%\n"
    }
   }
  },
  {
   "cell_type": "code",
   "execution_count": 61,
   "outputs": [
    {
     "data": {
      "text/plain": "'AWAY'"
     },
     "execution_count": 61,
     "metadata": {},
     "output_type": "execute_result"
    }
   ],
   "source": [
    "str(clf_svm.predict(test_x_vecs)[0])"
   ],
   "metadata": {
    "collapsed": false,
    "pycharm": {
     "name": "#%%\n"
    }
   }
  },
  {
   "cell_type": "code",
   "execution_count": 67,
   "outputs": [],
   "source": [
    "def predict(processor, clf, input_txt):\n",
    "    doc = [processor(word) for word in input_txt]\n",
    "    x_vecs = [x.vector for x in doc]\n",
    "    pred_arr = clf.predict(x_vecs)\n",
    "    return str(pred_arr[0])"
   ],
   "metadata": {
    "collapsed": false,
    "pycharm": {
     "name": "#%%\n"
    }
   }
  },
  {
   "cell_type": "code",
   "execution_count": 65,
   "outputs": [
    {
     "ename": "KeyboardInterrupt",
     "evalue": "",
     "output_type": "error",
     "traceback": [
      "\u001B[1;31m---------------------------------------------------------------------------\u001B[0m",
      "\u001B[1;31mKeyboardInterrupt\u001B[0m                         Traceback (most recent call last)",
      "\u001B[1;32m<ipython-input-65-ec4ff7fdde45>\u001B[0m in \u001B[0;36m<module>\u001B[1;34m\u001B[0m\n\u001B[1;32m----> 1\u001B[1;33m \u001B[0mpredictions\u001B[0m \u001B[1;33m=\u001B[0m \u001B[1;33m[\u001B[0m\u001B[0mpredict\u001B[0m\u001B[1;33m(\u001B[0m\u001B[0mnlp\u001B[0m\u001B[1;33m,\u001B[0m \u001B[0mclf_svm\u001B[0m\u001B[1;33m,\u001B[0m \u001B[0minp\u001B[0m\u001B[1;33m)\u001B[0m \u001B[1;32mfor\u001B[0m \u001B[0minp\u001B[0m \u001B[1;32min\u001B[0m \u001B[0mdata\u001B[0m\u001B[1;33m[\u001B[0m\u001B[1;34m\"Text\"\u001B[0m\u001B[1;33m]\u001B[0m\u001B[1;33m]\u001B[0m\u001B[1;33m\u001B[0m\u001B[1;33m\u001B[0m\u001B[0m\n\u001B[0m",
      "\u001B[1;32m<ipython-input-65-ec4ff7fdde45>\u001B[0m in \u001B[0;36m<listcomp>\u001B[1;34m(.0)\u001B[0m\n\u001B[1;32m----> 1\u001B[1;33m \u001B[0mpredictions\u001B[0m \u001B[1;33m=\u001B[0m \u001B[1;33m[\u001B[0m\u001B[0mpredict\u001B[0m\u001B[1;33m(\u001B[0m\u001B[0mnlp\u001B[0m\u001B[1;33m,\u001B[0m \u001B[0mclf_svm\u001B[0m\u001B[1;33m,\u001B[0m \u001B[0minp\u001B[0m\u001B[1;33m)\u001B[0m \u001B[1;32mfor\u001B[0m \u001B[0minp\u001B[0m \u001B[1;32min\u001B[0m \u001B[0mdata\u001B[0m\u001B[1;33m[\u001B[0m\u001B[1;34m\"Text\"\u001B[0m\u001B[1;33m]\u001B[0m\u001B[1;33m]\u001B[0m\u001B[1;33m\u001B[0m\u001B[1;33m\u001B[0m\u001B[0m\n\u001B[0m",
      "\u001B[1;32m<ipython-input-64-72a4f0663538>\u001B[0m in \u001B[0;36mpredict\u001B[1;34m(processor, clf, input_txt)\u001B[0m\n\u001B[0;32m      1\u001B[0m \u001B[1;32mdef\u001B[0m \u001B[0mpredict\u001B[0m\u001B[1;33m(\u001B[0m\u001B[0mprocessor\u001B[0m\u001B[1;33m,\u001B[0m \u001B[0mclf\u001B[0m\u001B[1;33m,\u001B[0m \u001B[0minput_txt\u001B[0m\u001B[1;33m)\u001B[0m\u001B[1;33m:\u001B[0m\u001B[1;33m\u001B[0m\u001B[1;33m\u001B[0m\u001B[0m\n\u001B[1;32m----> 2\u001B[1;33m     \u001B[0mdoc\u001B[0m \u001B[1;33m=\u001B[0m \u001B[1;33m[\u001B[0m\u001B[0mprocessor\u001B[0m\u001B[1;33m(\u001B[0m\u001B[0mword\u001B[0m\u001B[1;33m)\u001B[0m \u001B[1;32mfor\u001B[0m \u001B[0mword\u001B[0m \u001B[1;32min\u001B[0m \u001B[0minput_txt\u001B[0m\u001B[1;33m]\u001B[0m\u001B[1;33m\u001B[0m\u001B[1;33m\u001B[0m\u001B[0m\n\u001B[0m\u001B[0;32m      3\u001B[0m     \u001B[0mx_vecs\u001B[0m \u001B[1;33m=\u001B[0m \u001B[1;33m[\u001B[0m\u001B[0mx\u001B[0m\u001B[1;33m.\u001B[0m\u001B[0mvector\u001B[0m \u001B[1;32mfor\u001B[0m \u001B[0mx\u001B[0m \u001B[1;32min\u001B[0m \u001B[0mdoc\u001B[0m\u001B[1;33m]\u001B[0m\u001B[1;33m\u001B[0m\u001B[1;33m\u001B[0m\u001B[0m\n\u001B[0;32m      4\u001B[0m     \u001B[0mpred_arr\u001B[0m \u001B[1;33m=\u001B[0m \u001B[0mclf\u001B[0m\u001B[1;33m.\u001B[0m\u001B[0mpredict\u001B[0m\u001B[1;33m(\u001B[0m\u001B[0mx_vecs\u001B[0m\u001B[1;33m)\u001B[0m\u001B[1;33m\u001B[0m\u001B[1;33m\u001B[0m\u001B[0m\n\u001B[0;32m      5\u001B[0m     \u001B[1;32mreturn\u001B[0m \u001B[0mstr\u001B[0m\u001B[1;33m(\u001B[0m\u001B[0mpred_arr\u001B[0m\u001B[1;33m[\u001B[0m\u001B[1;36m0\u001B[0m\u001B[1;33m]\u001B[0m\u001B[1;33m)\u001B[0m\u001B[1;33m\u001B[0m\u001B[1;33m\u001B[0m\u001B[0m\n",
      "\u001B[1;32m<ipython-input-64-72a4f0663538>\u001B[0m in \u001B[0;36m<listcomp>\u001B[1;34m(.0)\u001B[0m\n\u001B[0;32m      1\u001B[0m \u001B[1;32mdef\u001B[0m \u001B[0mpredict\u001B[0m\u001B[1;33m(\u001B[0m\u001B[0mprocessor\u001B[0m\u001B[1;33m,\u001B[0m \u001B[0mclf\u001B[0m\u001B[1;33m,\u001B[0m \u001B[0minput_txt\u001B[0m\u001B[1;33m)\u001B[0m\u001B[1;33m:\u001B[0m\u001B[1;33m\u001B[0m\u001B[1;33m\u001B[0m\u001B[0m\n\u001B[1;32m----> 2\u001B[1;33m     \u001B[0mdoc\u001B[0m \u001B[1;33m=\u001B[0m \u001B[1;33m[\u001B[0m\u001B[0mprocessor\u001B[0m\u001B[1;33m(\u001B[0m\u001B[0mword\u001B[0m\u001B[1;33m)\u001B[0m \u001B[1;32mfor\u001B[0m \u001B[0mword\u001B[0m \u001B[1;32min\u001B[0m \u001B[0minput_txt\u001B[0m\u001B[1;33m]\u001B[0m\u001B[1;33m\u001B[0m\u001B[1;33m\u001B[0m\u001B[0m\n\u001B[0m\u001B[0;32m      3\u001B[0m     \u001B[0mx_vecs\u001B[0m \u001B[1;33m=\u001B[0m \u001B[1;33m[\u001B[0m\u001B[0mx\u001B[0m\u001B[1;33m.\u001B[0m\u001B[0mvector\u001B[0m \u001B[1;32mfor\u001B[0m \u001B[0mx\u001B[0m \u001B[1;32min\u001B[0m \u001B[0mdoc\u001B[0m\u001B[1;33m]\u001B[0m\u001B[1;33m\u001B[0m\u001B[1;33m\u001B[0m\u001B[0m\n\u001B[0;32m      4\u001B[0m     \u001B[0mpred_arr\u001B[0m \u001B[1;33m=\u001B[0m \u001B[0mclf\u001B[0m\u001B[1;33m.\u001B[0m\u001B[0mpredict\u001B[0m\u001B[1;33m(\u001B[0m\u001B[0mx_vecs\u001B[0m\u001B[1;33m)\u001B[0m\u001B[1;33m\u001B[0m\u001B[1;33m\u001B[0m\u001B[0m\n\u001B[0;32m      5\u001B[0m     \u001B[1;32mreturn\u001B[0m \u001B[0mstr\u001B[0m\u001B[1;33m(\u001B[0m\u001B[0mpred_arr\u001B[0m\u001B[1;33m[\u001B[0m\u001B[1;36m0\u001B[0m\u001B[1;33m]\u001B[0m\u001B[1;33m)\u001B[0m\u001B[1;33m\u001B[0m\u001B[1;33m\u001B[0m\u001B[0m\n",
      "\u001B[1;32mc:\\users\\kevin\\appdata\\local\\programs\\python\\python39\\lib\\site-packages\\spacy\\language.py\u001B[0m in \u001B[0;36m__call__\u001B[1;34m(self, text, disable, component_cfg)\u001B[0m\n\u001B[0;32m   1015\u001B[0m                 \u001B[0merror_handler\u001B[0m \u001B[1;33m=\u001B[0m \u001B[0mproc\u001B[0m\u001B[1;33m.\u001B[0m\u001B[0mget_error_handler\u001B[0m\u001B[1;33m(\u001B[0m\u001B[1;33m)\u001B[0m\u001B[1;33m\u001B[0m\u001B[1;33m\u001B[0m\u001B[0m\n\u001B[0;32m   1016\u001B[0m             \u001B[1;32mtry\u001B[0m\u001B[1;33m:\u001B[0m\u001B[1;33m\u001B[0m\u001B[1;33m\u001B[0m\u001B[0m\n\u001B[1;32m-> 1017\u001B[1;33m                 \u001B[0mdoc\u001B[0m \u001B[1;33m=\u001B[0m \u001B[0mproc\u001B[0m\u001B[1;33m(\u001B[0m\u001B[0mdoc\u001B[0m\u001B[1;33m,\u001B[0m \u001B[1;33m**\u001B[0m\u001B[0mcomponent_cfg\u001B[0m\u001B[1;33m.\u001B[0m\u001B[0mget\u001B[0m\u001B[1;33m(\u001B[0m\u001B[0mname\u001B[0m\u001B[1;33m,\u001B[0m \u001B[1;33m{\u001B[0m\u001B[1;33m}\u001B[0m\u001B[1;33m)\u001B[0m\u001B[1;33m)\u001B[0m  \u001B[1;31m# type: ignore[call-arg]\u001B[0m\u001B[1;33m\u001B[0m\u001B[1;33m\u001B[0m\u001B[0m\n\u001B[0m\u001B[0;32m   1018\u001B[0m             \u001B[1;32mexcept\u001B[0m \u001B[0mKeyError\u001B[0m \u001B[1;32mas\u001B[0m \u001B[0me\u001B[0m\u001B[1;33m:\u001B[0m\u001B[1;33m\u001B[0m\u001B[1;33m\u001B[0m\u001B[0m\n\u001B[0;32m   1019\u001B[0m                 \u001B[1;31m# This typically happens if a component is not initialized\u001B[0m\u001B[1;33m\u001B[0m\u001B[1;33m\u001B[0m\u001B[1;33m\u001B[0m\u001B[0m\n",
      "\u001B[1;32mc:\\users\\kevin\\appdata\\local\\programs\\python\\python39\\lib\\site-packages\\spacy\\pipeline\\trainable_pipe.pyx\u001B[0m in \u001B[0;36mspacy.pipeline.trainable_pipe.TrainablePipe.__call__\u001B[1;34m()\u001B[0m\n",
      "\u001B[1;32mc:\\users\\kevin\\appdata\\local\\programs\\python\\python39\\lib\\site-packages\\spacy\\pipeline\\transition_parser.pyx\u001B[0m in \u001B[0;36mspacy.pipeline.transition_parser.Parser.predict\u001B[1;34m()\u001B[0m\n",
      "\u001B[1;32mc:\\users\\kevin\\appdata\\local\\programs\\python\\python39\\lib\\site-packages\\spacy\\pipeline\\transition_parser.pyx\u001B[0m in \u001B[0;36mspacy.pipeline.transition_parser.Parser.greedy_parse\u001B[1;34m()\u001B[0m\n",
      "\u001B[1;32mc:\\users\\kevin\\appdata\\local\\programs\\python\\python39\\lib\\site-packages\\thinc\\model.py\u001B[0m in \u001B[0;36mpredict\u001B[1;34m(self, X)\u001B[0m\n\u001B[0;32m    313\u001B[0m         \u001B[0monly\u001B[0m \u001B[0mthe\u001B[0m \u001B[0moutput\u001B[0m\u001B[1;33m,\u001B[0m \u001B[0minstead\u001B[0m \u001B[0mof\u001B[0m \u001B[0mthe\u001B[0m\u001B[0;31m \u001B[0m\u001B[0;31m`\u001B[0m\u001B[1;33m(\u001B[0m\u001B[0moutput\u001B[0m\u001B[1;33m,\u001B[0m \u001B[0mcallback\u001B[0m\u001B[1;33m)\u001B[0m\u001B[0;31m`\u001B[0m \u001B[0mtuple\u001B[0m\u001B[1;33m.\u001B[0m\u001B[1;33m\u001B[0m\u001B[1;33m\u001B[0m\u001B[0m\n\u001B[0;32m    314\u001B[0m         \"\"\"\n\u001B[1;32m--> 315\u001B[1;33m         \u001B[1;32mreturn\u001B[0m \u001B[0mself\u001B[0m\u001B[1;33m.\u001B[0m\u001B[0m_func\u001B[0m\u001B[1;33m(\u001B[0m\u001B[0mself\u001B[0m\u001B[1;33m,\u001B[0m \u001B[0mX\u001B[0m\u001B[1;33m,\u001B[0m \u001B[0mis_train\u001B[0m\u001B[1;33m=\u001B[0m\u001B[1;32mFalse\u001B[0m\u001B[1;33m)\u001B[0m\u001B[1;33m[\u001B[0m\u001B[1;36m0\u001B[0m\u001B[1;33m]\u001B[0m\u001B[1;33m\u001B[0m\u001B[1;33m\u001B[0m\u001B[0m\n\u001B[0m\u001B[0;32m    316\u001B[0m \u001B[1;33m\u001B[0m\u001B[0m\n\u001B[0;32m    317\u001B[0m     \u001B[1;32mdef\u001B[0m \u001B[0mfinish_update\u001B[0m\u001B[1;33m(\u001B[0m\u001B[0mself\u001B[0m\u001B[1;33m,\u001B[0m \u001B[0moptimizer\u001B[0m\u001B[1;33m:\u001B[0m \u001B[0mOptimizer\u001B[0m\u001B[1;33m)\u001B[0m \u001B[1;33m->\u001B[0m \u001B[1;32mNone\u001B[0m\u001B[1;33m:\u001B[0m\u001B[1;33m\u001B[0m\u001B[1;33m\u001B[0m\u001B[0m\n",
      "\u001B[1;32mc:\\users\\kevin\\appdata\\local\\programs\\python\\python39\\lib\\site-packages\\spacy\\ml\\tb_framework.py\u001B[0m in \u001B[0;36mforward\u001B[1;34m(model, X, is_train)\u001B[0m\n\u001B[0;32m     31\u001B[0m \u001B[1;33m\u001B[0m\u001B[0m\n\u001B[0;32m     32\u001B[0m \u001B[1;32mdef\u001B[0m \u001B[0mforward\u001B[0m\u001B[1;33m(\u001B[0m\u001B[0mmodel\u001B[0m\u001B[1;33m,\u001B[0m \u001B[0mX\u001B[0m\u001B[1;33m,\u001B[0m \u001B[0mis_train\u001B[0m\u001B[1;33m)\u001B[0m\u001B[1;33m:\u001B[0m\u001B[1;33m\u001B[0m\u001B[1;33m\u001B[0m\u001B[0m\n\u001B[1;32m---> 33\u001B[1;33m     step_model = ParserStepModel(\n\u001B[0m\u001B[0;32m     34\u001B[0m         \u001B[0mX\u001B[0m\u001B[1;33m,\u001B[0m\u001B[1;33m\u001B[0m\u001B[1;33m\u001B[0m\u001B[0m\n\u001B[0;32m     35\u001B[0m         \u001B[0mmodel\u001B[0m\u001B[1;33m.\u001B[0m\u001B[0mlayers\u001B[0m\u001B[1;33m,\u001B[0m\u001B[1;33m\u001B[0m\u001B[1;33m\u001B[0m\u001B[0m\n",
      "\u001B[1;32mc:\\users\\kevin\\appdata\\local\\programs\\python\\python39\\lib\\site-packages\\spacy\\ml\\parser_model.pyx\u001B[0m in \u001B[0;36mspacy.ml.parser_model.ParserStepModel.__init__\u001B[1;34m()\u001B[0m\n",
      "\u001B[1;32mc:\\users\\kevin\\appdata\\local\\programs\\python\\python39\\lib\\site-packages\\spacy\\ml\\parser_model.pyx\u001B[0m in \u001B[0;36mspacy.ml.parser_model.precompute_hiddens.__init__\u001B[1;34m()\u001B[0m\n",
      "\u001B[1;32mc:\\users\\kevin\\appdata\\local\\programs\\python\\python39\\lib\\site-packages\\thinc\\model.py\u001B[0m in \u001B[0;36m__call__\u001B[1;34m(self, X, is_train)\u001B[0m\n\u001B[0;32m    289\u001B[0m         \"\"\"Call the model's `forward` function, returning the output and a\n\u001B[0;32m    290\u001B[0m         callback to compute the gradients via backpropagation.\"\"\"\n\u001B[1;32m--> 291\u001B[1;33m         \u001B[1;32mreturn\u001B[0m \u001B[0mself\u001B[0m\u001B[1;33m.\u001B[0m\u001B[0m_func\u001B[0m\u001B[1;33m(\u001B[0m\u001B[0mself\u001B[0m\u001B[1;33m,\u001B[0m \u001B[0mX\u001B[0m\u001B[1;33m,\u001B[0m \u001B[0mis_train\u001B[0m\u001B[1;33m=\u001B[0m\u001B[0mis_train\u001B[0m\u001B[1;33m)\u001B[0m\u001B[1;33m\u001B[0m\u001B[1;33m\u001B[0m\u001B[0m\n\u001B[0m\u001B[0;32m    292\u001B[0m \u001B[1;33m\u001B[0m\u001B[0m\n\u001B[0;32m    293\u001B[0m     \u001B[1;32mdef\u001B[0m \u001B[0minitialize\u001B[0m\u001B[1;33m(\u001B[0m\u001B[0mself\u001B[0m\u001B[1;33m,\u001B[0m \u001B[0mX\u001B[0m\u001B[1;33m:\u001B[0m \u001B[0mOptional\u001B[0m\u001B[1;33m[\u001B[0m\u001B[0mInT\u001B[0m\u001B[1;33m]\u001B[0m \u001B[1;33m=\u001B[0m \u001B[1;32mNone\u001B[0m\u001B[1;33m,\u001B[0m \u001B[0mY\u001B[0m\u001B[1;33m:\u001B[0m \u001B[0mOptional\u001B[0m\u001B[1;33m[\u001B[0m\u001B[0mOutT\u001B[0m\u001B[1;33m]\u001B[0m \u001B[1;33m=\u001B[0m \u001B[1;32mNone\u001B[0m\u001B[1;33m)\u001B[0m \u001B[1;33m->\u001B[0m \u001B[1;34m\"Model\"\u001B[0m\u001B[1;33m:\u001B[0m\u001B[1;33m\u001B[0m\u001B[1;33m\u001B[0m\u001B[0m\n",
      "\u001B[1;32mc:\\users\\kevin\\appdata\\local\\programs\\python\\python39\\lib\\site-packages\\spacy\\ml\\_precomputable_affine.py\u001B[0m in \u001B[0;36mforward\u001B[1;34m(model, X, is_train)\u001B[0m\n\u001B[0;32m     23\u001B[0m     \u001B[0mnI\u001B[0m \u001B[1;33m=\u001B[0m \u001B[0mmodel\u001B[0m\u001B[1;33m.\u001B[0m\u001B[0mget_dim\u001B[0m\u001B[1;33m(\u001B[0m\u001B[1;34m\"nI\"\u001B[0m\u001B[1;33m)\u001B[0m\u001B[1;33m\u001B[0m\u001B[1;33m\u001B[0m\u001B[0m\n\u001B[0;32m     24\u001B[0m     \u001B[0mW\u001B[0m \u001B[1;33m=\u001B[0m \u001B[0mmodel\u001B[0m\u001B[1;33m.\u001B[0m\u001B[0mget_param\u001B[0m\u001B[1;33m(\u001B[0m\u001B[1;34m\"W\"\u001B[0m\u001B[1;33m)\u001B[0m\u001B[1;33m\u001B[0m\u001B[1;33m\u001B[0m\u001B[0m\n\u001B[1;32m---> 25\u001B[1;33m     \u001B[0mYf\u001B[0m \u001B[1;33m=\u001B[0m \u001B[0mmodel\u001B[0m\u001B[1;33m.\u001B[0m\u001B[0mops\u001B[0m\u001B[1;33m.\u001B[0m\u001B[0mgemm\u001B[0m\u001B[1;33m(\u001B[0m\u001B[0mX\u001B[0m\u001B[1;33m,\u001B[0m \u001B[0mW\u001B[0m\u001B[1;33m.\u001B[0m\u001B[0mreshape\u001B[0m\u001B[1;33m(\u001B[0m\u001B[1;33m(\u001B[0m\u001B[0mnF\u001B[0m \u001B[1;33m*\u001B[0m \u001B[0mnO\u001B[0m \u001B[1;33m*\u001B[0m \u001B[0mnP\u001B[0m\u001B[1;33m,\u001B[0m \u001B[0mnI\u001B[0m\u001B[1;33m)\u001B[0m\u001B[1;33m)\u001B[0m\u001B[1;33m,\u001B[0m \u001B[0mtrans2\u001B[0m\u001B[1;33m=\u001B[0m\u001B[1;32mTrue\u001B[0m\u001B[1;33m)\u001B[0m\u001B[1;33m\u001B[0m\u001B[1;33m\u001B[0m\u001B[0m\n\u001B[0m\u001B[0;32m     26\u001B[0m     \u001B[0mYf\u001B[0m \u001B[1;33m=\u001B[0m \u001B[0mYf\u001B[0m\u001B[1;33m.\u001B[0m\u001B[0mreshape\u001B[0m\u001B[1;33m(\u001B[0m\u001B[1;33m(\u001B[0m\u001B[0mYf\u001B[0m\u001B[1;33m.\u001B[0m\u001B[0mshape\u001B[0m\u001B[1;33m[\u001B[0m\u001B[1;36m0\u001B[0m\u001B[1;33m]\u001B[0m\u001B[1;33m,\u001B[0m \u001B[0mnF\u001B[0m\u001B[1;33m,\u001B[0m \u001B[0mnO\u001B[0m\u001B[1;33m,\u001B[0m \u001B[0mnP\u001B[0m\u001B[1;33m)\u001B[0m\u001B[1;33m)\u001B[0m\u001B[1;33m\u001B[0m\u001B[1;33m\u001B[0m\u001B[0m\n\u001B[0;32m     27\u001B[0m     \u001B[0mYf\u001B[0m \u001B[1;33m=\u001B[0m \u001B[0mmodel\u001B[0m\u001B[1;33m.\u001B[0m\u001B[0mops\u001B[0m\u001B[1;33m.\u001B[0m\u001B[0mxp\u001B[0m\u001B[1;33m.\u001B[0m\u001B[0mvstack\u001B[0m\u001B[1;33m(\u001B[0m\u001B[1;33m(\u001B[0m\u001B[0mmodel\u001B[0m\u001B[1;33m.\u001B[0m\u001B[0mget_param\u001B[0m\u001B[1;33m(\u001B[0m\u001B[1;34m\"pad\"\u001B[0m\u001B[1;33m)\u001B[0m\u001B[1;33m,\u001B[0m \u001B[0mYf\u001B[0m\u001B[1;33m)\u001B[0m\u001B[1;33m)\u001B[0m\u001B[1;33m\u001B[0m\u001B[1;33m\u001B[0m\u001B[0m\n",
      "\u001B[1;31mKeyboardInterrupt\u001B[0m: "
     ]
    }
   ],
   "source": [
    "predictions = [predict(nlp, clf_svm, inp) for inp in data[\"Text\"]]"
   ],
   "metadata": {
    "collapsed": false,
    "pycharm": {
     "name": "#%%\n"
    }
   }
  },
  {
   "cell_type": "code",
   "execution_count": 76,
   "outputs": [
    {
     "data": {
      "text/plain": "'UNRELATED'"
     },
     "execution_count": 76,
     "metadata": {},
     "output_type": "execute_result"
    }
   ],
   "source": [
    "predict(nlp, clf_svm, data[\"Text\"][1254])"
   ],
   "metadata": {
    "collapsed": false,
    "pycharm": {
     "name": "#%%\n"
    }
   }
  },
  {
   "cell_type": "code",
   "execution_count": 77,
   "outputs": [
    {
     "data": {
      "text/plain": "'CS #MonicaJuma with Dr. Nabil Mohamed Ahmed, Djibouti Minister for Higher Education and Research at his office. The two Ministers agreed to strengthen cooperation through exchange of students, researchers and lecturers.'"
     },
     "execution_count": 77,
     "metadata": {},
     "output_type": "execute_result"
    }
   ],
   "source": [
    "data[\"Text\"][1254]"
   ],
   "metadata": {
    "collapsed": false,
    "pycharm": {
     "name": "#%%\n"
    }
   }
  },
  {
   "cell_type": "code",
   "execution_count": null,
   "outputs": [],
   "source": [],
   "metadata": {
    "collapsed": false,
    "pycharm": {
     "name": "#%%\n"
    }
   }
  }
 ],
 "metadata": {
  "kernelspec": {
   "display_name": "Python 3",
   "language": "python",
   "name": "python3"
  },
  "language_info": {
   "codemirror_mode": {
    "name": "ipython",
    "version": 2
   },
   "file_extension": ".py",
   "mimetype": "text/x-python",
   "name": "python",
   "nbconvert_exporter": "python",
   "pygments_lexer": "ipython2",
   "version": "2.7.6"
  }
 },
 "nbformat": 4,
 "nbformat_minor": 0
}